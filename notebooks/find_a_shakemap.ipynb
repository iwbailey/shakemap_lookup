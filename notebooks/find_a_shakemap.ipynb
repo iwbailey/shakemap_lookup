{
 "cells": [
  {
   "cell_type": "code",
   "execution_count": 1,
   "metadata": {},
   "outputs": [],
   "source": [
    "from shakemap_lookup import usgs_web"
   ]
  },
  {
   "cell_type": "code",
   "execution_count": 2,
   "metadata": {},
   "outputs": [
    {
     "name": "stdout",
     "output_type": "stream",
     "text": [
      "Help on function search_usgsevents in module shakemap_lookup.usgs_web:\n",
      "\n",
      "search_usgsevents(searchParams, urlEndpt='https://earthquake.usgs.gov/fdsnws/event/1/query', maxNprint=30, isQuiet=False)\n",
      "    Search the USGS for events satisfying the criteria and return a list of\n",
      "    events\n",
      "    \n",
      "    IN:\n",
      "    searchParams is a dict containing the search parameters used for the query\n",
      "    urlEndpt [string] is the web address used for the search.\n",
      "    \n",
      "    API doc here... https://earthquake.usgs.gov/fdsnws/event/1/\n",
      "    \n",
      "    OUT:\n",
      "    A list of events satisfying the conditions in a json structure\n",
      "\n"
     ]
    }
   ],
   "source": [
    "help(usgs_web.search_usgsevents)"
   ]
  },
  {
   "cell_type": "markdown",
   "metadata": {},
   "source": [
    "## Define our search parameters and send to the USGS \n",
    "Use a dict, with same names as used by the USGS web call.\n",
    "\n",
    "Send a query to the web server. The result is a list of events also in a dict format."
   ]
  },
  {
   "cell_type": "code",
   "execution_count": 3,
   "metadata": {},
   "outputs": [
    {
     "name": "stdout",
     "output_type": "stream",
     "text": [
      "Sending query to get events...\n",
      "Parsing...\n",
      "\t...1 events returned (limit of 50)\n",
      "\t\t 70116556 : M 6.9 - 19km SSW of Leilani Estates, Hawaii\n"
     ]
    }
   ],
   "source": [
    "search_params = {\n",
    "    'starttime':  \"2018-05-01\",\n",
    "    'endtime':  \"2018-05-17\",\n",
    "    'minmagnitude':  6.8,\n",
    "    'maxmagnitude': 10.0,\n",
    "    'mindepth': 0.0,\n",
    "    'maxdepth': 50.0,\n",
    "    'minlongitude': -180.0,\n",
    "    'maxlongitude': -97.0,\n",
    "    'minlatitude':  0.0,\n",
    "    'maxlatitude': 45.0,\n",
    "    'limit': 50,\n",
    "    'producttype': 'shakemap'\n",
    "}\n",
    "\n",
    "events = usgs_web.search_usgsevents(search_params)"
   ]
  },
  {
   "cell_type": "markdown",
   "metadata": {},
   "source": [
    "## Check the metadata  \n",
    "Display metadata including number of earthquakes returned and what url was used for the query"
   ]
  },
  {
   "cell_type": "code",
   "execution_count": 4,
   "metadata": {},
   "outputs": [
    {
     "name": "stdout",
     "output_type": "stream",
     "text": [
      "generated : 1575582197000\n",
      "url : https://earthquake.usgs.gov/fdsnws/event/1/query?starttime=2018-05-01&endtime=2018-05-17&minmagnitude=6.8&maxmagnitude=10.0&mindepth=0.0&maxdepth=50.0&minlongitude=-180.0&maxlongitude=-97.0&minlatitude=0.0&maxlatitude=45.0&limit=50&producttype=shakemap&format=geojson&jsonerror=true\n",
      "title : USGS Earthquakes\n",
      "status : 200\n",
      "api : 1.8.1\n",
      "limit : 50\n",
      "offset : 1\n",
      "count : 1\n"
     ]
    }
   ],
   "source": [
    "for k, v in events['metadata'].items():\n",
    "    print(k,\":\", v)"
   ]
  },
  {
   "cell_type": "markdown",
   "metadata": {},
   "source": [
    "## Selection of event from candidates"
   ]
  },
  {
   "cell_type": "code",
   "execution_count": 5,
   "metadata": {},
   "outputs": [
    {
     "name": "stdout",
     "output_type": "stream",
     "text": [
      "\n",
      "USER SELECTION OF EVENT:\n",
      "========================\n",
      "   0: M 6.9 - 19km SSW of Leilani Estates, Hawaii (70116556)\n",
      "None: First on list\n",
      "  -1: Exit\n",
      "\n",
      "Choice: \n",
      "\t... selected M 6.9 - 19km SSW of Leilani Estates, Hawaii (70116556)\n",
      "\n"
     ]
    },
    {
     "data": {
      "text/plain": [
       "{'type': 'Feature',\n",
       " 'properties': {'mag': 6.9,\n",
       "  'place': '19km SSW of Leilani Estates, Hawaii',\n",
       "  'time': 1525473174650,\n",
       "  'updated': 1539813301007,\n",
       "  'tz': -600,\n",
       "  'url': 'https://earthquake.usgs.gov/earthquakes/eventpage/hv70116556',\n",
       "  'detail': 'https://earthquake.usgs.gov/fdsnws/event/1/query?eventid=hv70116556&format=geojson',\n",
       "  'felt': 1630,\n",
       "  'cdi': 6.6,\n",
       "  'mmi': 8.45,\n",
       "  'alert': 'yellow',\n",
       "  'status': 'reviewed',\n",
       "  'tsunami': 1,\n",
       "  'sig': 1392,\n",
       "  'net': 'hv',\n",
       "  'code': '70116556',\n",
       "  'ids': ',hv70116556,us1000dyad,pt18124051,at00p886n0,',\n",
       "  'sources': ',hv,us,pt,at,',\n",
       "  'types': ',dyfi,finite-fault,general-header,general-link,general-text,geoserve,ground-failure,impact-link,impact-text,losspager,moment-tensor,origin,phase-data,poster,shakemap,',\n",
       "  'nst': 63,\n",
       "  'dmin': 0.11,\n",
       "  'rms': 0.11,\n",
       "  'gap': 210,\n",
       "  'magType': 'mw',\n",
       "  'type': 'earthquake',\n",
       "  'title': 'M 6.9 - 19km SSW of Leilani Estates, Hawaii'},\n",
       " 'geometry': {'type': 'Point',\n",
       "  'coordinates': [-154.9996667, 19.3181667, 5.81]},\n",
       " 'id': 'hv70116556'}"
      ]
     },
     "execution_count": 5,
     "metadata": {},
     "output_type": "execute_result"
    }
   ],
   "source": [
    "my_event = usgs_web.choose_event(events)\n",
    "my_event"
   ]
  },
  {
   "cell_type": "markdown",
   "metadata": {},
   "source": [
    "## Select which ShakeMap for the selected event"
   ]
  },
  {
   "cell_type": "code",
   "execution_count": 6,
   "metadata": {},
   "outputs": [
    {
     "name": "stdout",
     "output_type": "stream",
     "text": [
      "Querying detailed event info for eventId=70116556...\n",
      "\t...2 shakemaps found\n",
      "\n",
      "USER SELECTION OF SHAKEMAP:\n",
      "===========================\n",
      "Option 0:\n",
      "\t   eventsourcecode: 70116556\n",
      "\t           version: 1\n",
      "\t process-timestamp: 2018-09-08T02:52:24Z\n",
      "Option 1:\n",
      "\t   eventsourcecode: 1000dyad\n",
      "\t           version: 11\n",
      "\t process-timestamp: 2018-06-15T23:02:03Z\n",
      "\n",
      "Choice [default 0]: \n",
      "\t... selected 0\n",
      "\n"
     ]
    }
   ],
   "source": [
    "smDetail = usgs_web.query_shakemapdetail(my_event['properties'])"
   ]
  },
  {
   "cell_type": "markdown",
   "metadata": {},
   "source": [
    "## Display available content for the ShakeMap"
   ]
  },
  {
   "cell_type": "code",
   "execution_count": 7,
   "metadata": {
    "scrolled": false
   },
   "outputs": [
    {
     "name": "stdout",
     "output_type": "stream",
     "text": [
      "Available Content\n",
      "=================\n",
      "about_formats.html              : text/html [28820]\n",
      "contents.xml                    : application/xml [9187]\n",
      "download/70116556.kml           : application/vnd.google-earth.kml+xml [1032]\n",
      "download/cont_mi.json           : application/json [79388]\n",
      "download/cont_mi.kmz            : application/vnd.google-earth.kmz [17896]\n",
      "download/cont_pga.json          : application/json [17499]\n",
      "download/cont_pga.kmz           : application/vnd.google-earth.kmz [4362]\n",
      "download/cont_pgv.json          : application/json [12352]\n",
      "download/cont_pgv.kmz           : application/vnd.google-earth.kmz [3309]\n",
      "download/cont_psa03.json        : application/json [24669]\n",
      "download/cont_psa03.kmz         : application/vnd.google-earth.kmz [5843]\n",
      "download/cont_psa10.json        : application/json [15028]\n",
      "download/cont_psa10.kmz         : application/vnd.google-earth.kmz [3843]\n",
      "download/cont_psa30.json        : application/json [7537]\n",
      "download/cont_psa30.kmz         : application/vnd.google-earth.kmz [2254]\n",
      "download/epicenter.kmz          : application/vnd.google-earth.kmz [1299]\n",
      "download/event.txt              : text/plain [125]\n",
      "download/grid.xml               : application/xml [3423219]\n",
      "download/grid.xml.zip           : application/zip [493382]\n",
      "download/grid.xyz.zip           : application/zip [428668]\n",
      "download/hazus.zip              : application/zip [329755]\n",
      "download/hv70116556.kml         : application/vnd.google-earth.kml+xml [1032]\n",
      "download/hv70116556.kmz         : application/vnd.google-earth.kmz [127511]\n",
      "download/ii_overlay.png         : image/png [25259]\n",
      "download/ii_thumbnail.jpg       : image/jpeg [3530]\n",
      "download/info.json              : application/json [2237]\n",
      "download/intensity.jpg          : image/jpeg [60761]\n",
      "download/intensity.ps.zip       : application/zip [139098]\n",
      "download/metadata.txt           : text/plain [33137]\n",
      "download/mi_regr.png            : image/png [35160]\n",
      "download/overlay.kmz            : application/vnd.google-earth.kmz [25245]\n",
      "download/pga.jpg                : image/jpeg [49594]\n",
      "download/pga.ps.zip             : application/zip [89668]\n",
      "download/pga_regr.png           : image/png [33466]\n",
      "download/pgv.jpg                : image/jpeg [49781]\n",
      "download/pgv.ps.zip             : application/zip [89389]\n",
      "download/pgv_regr.png           : image/png [17605]\n",
      "download/polygons_mi.kmz        : application/vnd.google-earth.kmz [43271]\n",
      "download/psa03.jpg              : image/jpeg [49354]\n",
      "download/psa03.ps.zip           : application/zip [90027]\n",
      "download/psa03_regr.png         : image/png [18371]\n",
      "download/psa10.jpg              : image/jpeg [49003]\n",
      "download/psa10.ps.zip           : application/zip [89513]\n",
      "download/psa10_regr.png         : image/png [31310]\n",
      "download/psa30.jpg              : image/jpeg [48956]\n",
      "download/psa30.ps.zip           : application/zip [89113]\n",
      "download/psa30_regr.png         : image/png [18055]\n",
      "download/raster.zip             : application/zip [1940448]\n",
      "download/rock_grid.xml.zip      : application/zip [403486]\n",
      "download/sd.jpg                 : image/jpeg [45869]\n",
      "download/shape.zip              : application/zip [1029832]\n",
      "download/stationlist.json       : application/json [55083]\n",
      "download/stationlist.txt        : text/plain [6737]\n",
      "download/stationlist.xml        : application/xml [32441]\n",
      "download/stations.kmz           : application/vnd.google-earth.kmz [7343]\n",
      "download/tvguide.txt            : text/plain [8765]\n",
      "download/tvmap.jpg              : image/jpeg [44223]\n",
      "download/tvmap.ps.zip           : application/zip [273000]\n",
      "download/tvmap_bare.jpg         : image/jpeg [48640]\n",
      "download/tvmap_bare.ps.zip      : application/zip [273146]\n",
      "download/uncertainty.xml.zip    : application/zip [211743]\n",
      "download/urat_pga.jpg           : image/jpeg [45869]\n",
      "download/urat_pga.ps.zip        : application/zip [51741]\n",
      "intensity.html                  : text/html [19291]\n",
      "pga.html                        : text/html [19083]\n",
      "pgv.html                        : text/html [19083]\n",
      "products.html                   : text/html [18584]\n",
      "psa03.html                      : text/html [20250]\n",
      "psa10.html                      : text/html [20249]\n",
      "psa30.html                      : text/html [20249]\n",
      "stationlist.html                : text/html [127947]\n"
     ]
    }
   ],
   "source": [
    "print(\"Available Content\\n=================\")\n",
    "for k, v in smDetail['contents'].items():\n",
    "    print(\"{:32s}: {} [{}]\".format(k, v['contentType'], v['length']))"
   ]
  },
  {
   "cell_type": "markdown",
   "metadata": {},
   "source": [
    "## Get download links\n",
    "Click on the link to download"
   ]
  },
  {
   "cell_type": "code",
   "execution_count": 8,
   "metadata": {
    "scrolled": false
   },
   "outputs": [
    {
     "name": "stdout",
     "output_type": "stream",
     "text": [
      "https://earthquake.usgs.gov/archive/product/shakemap/hv70116556/us/1536375199192/download/grid.xml.zip\n"
     ]
    }
   ],
   "source": [
    "# Extract the shakemap grid urls and version from the detail\n",
    "grid = smDetail['contents']['download/grid.xml.zip']\n",
    "print(grid['url'])"
   ]
  },
  {
   "cell_type": "code",
   "execution_count": 9,
   "metadata": {},
   "outputs": [
    {
     "name": "stdout",
     "output_type": "stream",
     "text": [
      "https://earthquake.usgs.gov/archive/product/shakemap/hv70116556/us/1536375199192/download/uncertainty.xml.zip\n"
     ]
    }
   ],
   "source": [
    "grid = smDetail['contents']['download/uncertainty.xml.zip']\n",
    "print(grid['url'])"
   ]
  }
 ],
 "metadata": {
  "kernelspec": {
   "display_name": "Python 3",
   "language": "python",
   "name": "python3"
  },
  "language_info": {
   "codemirror_mode": {
    "name": "ipython",
    "version": 3
   },
   "file_extension": ".py",
   "mimetype": "text/x-python",
   "name": "python",
   "nbconvert_exporter": "python",
   "pygments_lexer": "ipython3",
   "version": "3.7.3"
  }
 },
 "nbformat": 4,
 "nbformat_minor": 2
}
