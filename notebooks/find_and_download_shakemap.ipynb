{
 "cells": [
  {
   "cell_type": "markdown",
   "metadata": {},
   "source": [
    "# Find and download a shakemap"
   ]
  },
  {
   "cell_type": "code",
   "execution_count": null,
   "metadata": {},
   "outputs": [],
   "source": [
    "# User input\n",
    "SEARCH_PARAMS = {\n",
    "    'starttime':  \"2018-05-01\",\n",
    "    'endtime':  \"2018-05-17\",\n",
    "    'minmagnitude':  6.8,\n",
    "    'maxmagnitude': 10.0,\n",
    "    'mindepth': 0.0,\n",
    "    'maxdepth': 50.0,\n",
    "    'minlongitude': -180.0,\n",
    "    'maxlongitude': -97.0,\n",
    "    'minlatitude':  0.0,\n",
    "    'maxlatitude': 45.0,\n",
    "    'limit': 50,\n",
    "    'producttype': 'shakemap'    \n",
    "}\n",
    "\n",
    "OUTPUT_FOLDER = \"./Downloads\""
   ]
  },
  {
   "cell_type": "code",
   "execution_count": null,
   "metadata": {},
   "outputs": [],
   "source": [
    "# Get the shakemaps and save to a file\n",
    "from shakemap_utils import download_shakemapgrid\n",
    "ofilename, ofilename_unc = download_shakemapgrid(SEARCH_PARAMS, OUTPUT_FOLDER)"
   ]
  },
  {
   "cell_type": "code",
   "execution_count": null,
   "metadata": {},
   "outputs": [],
   "source": [
    "# Generate a plot of what was downloaded\n",
    "from shakemap_utils import USGSshakemapGrid\n",
    "import matplotlib.pyplot as plt\n",
    "from numpy import arange\n",
    "\n",
    "%matplotlib inline\n",
    "\n",
    "# Read the shakemap file(s)\n",
    "thisSM = USGSshakemapGrid(ofilename, 'MMI', ifile_unc=ofilename_unc)\n",
    "\n",
    "# Create the plot\n",
    "fig, ax = plt.subplots(1, 2, facecolor='white')\n",
    "fig.set_size_inches(12, 7)\n",
    "\n",
    "# Plot the shakemap as colours\n",
    "cax = ax[0].imshow(thisSM.grid, aspect='equal', interpolation='none',\n",
    "                   vmin=2, vmax=10, origin='lower',\n",
    "                   extent=thisSM.xylims(False))\n",
    "\n",
    "# Plot uncertainty\n",
    "cax2 = ax[1].imshow(thisSM.grid_std, aspect='equal', interpolation='none',\n",
    "                    vmin=0, vmax=1.5, origin='lower',\n",
    "                    extent=thisSM.xylims(False))\n",
    "\n",
    "# Formatting\n",
    "[a.grid() for a in ax] # Turn grid on\n",
    "\n",
    "# Add a colorbar\n",
    "plt.colorbar(cax, ax=ax[0], orientation='horizontal', ticks=range(0, 10, 1), label=thisSM.intensMeasure)\n",
    "plt.colorbar(cax2, ax=ax[1], orientation='horizontal', ticks=arange(0, 1.5, 0.25), label=f'Std({thisSM.intensMeasure})')\n",
    "_ = 1"
   ]
  }
 ],
 "metadata": {
  "kernelspec": {
   "display_name": "shakemap",
   "language": "python",
   "name": "shakemap"
  },
  "language_info": {
   "codemirror_mode": {
    "name": "ipython",
    "version": 3
   },
   "file_extension": ".py",
   "mimetype": "text/x-python",
   "name": "python",
   "nbconvert_exporter": "python",
   "pygments_lexer": "ipython3",
   "version": "3.6.3"
  }
 },
 "nbformat": 4,
 "nbformat_minor": 2
}
