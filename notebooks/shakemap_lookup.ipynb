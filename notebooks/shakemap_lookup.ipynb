{
 "cells": [
  {
   "cell_type": "markdown",
   "metadata": {},
   "source": [
    "# ShakeMap Lookup\n",
    "Lookup the intensity for a set of locations on a downloaded shakemap grid"
   ]
  },
  {
   "cell_type": "code",
   "execution_count": null,
   "metadata": {},
   "outputs": [],
   "source": [
    "# Shakemaps should be in xml or xml.zip format\n",
    "IFILE_SHAKEMAP = \"./Downloads/grid_70116556_v01.0.xml\"\n",
    "IFILE_SHAKEMAP_UNC = \"./Downloads/uncertainty_70116556_v01.0.xml\"\n",
    "\n",
    "# Uncomment if no uncertainty\n",
    "IFILE_SHAKEMAP_UNC = None\n",
    "\n",
    "# Locations list as a csv file. \n",
    "IFILE_LOCATIONS = \"../tests/example_lookup/Hawaii_Mile_Markers_v2.csv\"\n",
    "INTENSITY_MEASURE = \"MMI\""
   ]
  },
  {
   "cell_type": "code",
   "execution_count": null,
   "metadata": {},
   "outputs": [],
   "source": [
    "import pandas as pd\n",
    "from numpy import isnan\n",
    "from shakemap_utils import USGSshakemapGrid\n",
    "\n",
    "# Read the shakemap file(s)\n",
    "thisSM = USGSshakemapGrid(IFILE_SHAKEMAP, 'MMI', ifile_unc=IFILE_SHAKEMAP_UNC)\n",
    "\n",
    "# Read the locations\n",
    "locns = pd.read_csv(IFILE_LOCATIONS)\n",
    "   \n",
    "# Look up the intensities\n",
    "median, stddev = thisSM.lookup(locns['lon'].values, locns['lat'].values)\n",
    "locns[INTENSITY_MEASURE] = median\n",
    "\n",
    "if stddev[~isnan(stddev)].any():\n",
    "    locns[f\"std_{INTENSITY_MEASURE}\"] = stddev\n",
    "\n",
    "# Print top locations\n",
    "locns.sort_values(INTENSITY_MEASURE, ascending=False).head(20)"
   ]
  }
 ],
 "metadata": {
  "kernelspec": {
   "display_name": "shakemap",
   "language": "python",
   "name": "shakemap"
  },
  "language_info": {
   "codemirror_mode": {
    "name": "ipython",
    "version": 3
   },
   "file_extension": ".py",
   "mimetype": "text/x-python",
   "name": "python",
   "nbconvert_exporter": "python",
   "pygments_lexer": "ipython3",
   "version": "3.6.3"
  }
 },
 "nbformat": 4,
 "nbformat_minor": 2
}
