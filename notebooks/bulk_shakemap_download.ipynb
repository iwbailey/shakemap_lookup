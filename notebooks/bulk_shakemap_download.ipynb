{
 "cells": [
  {
   "cell_type": "code",
   "execution_count": 1,
   "metadata": {},
   "outputs": [],
   "source": [
    "from shakemap_lookup import usgs_web"
   ]
  },
  {
   "cell_type": "code",
   "execution_count": 2,
   "metadata": {},
   "outputs": [
    {
     "name": "stdout",
     "output_type": "stream",
     "text": [
      "Sending query to get events...\n",
      "Parsing...\n",
      "\t...1216 events returned (limit of 10000)\n",
      "\t\t 60006bjl : M 7.1 - 138km E of Bitung, Indonesia\n",
      "\t\t 7000635e : M 6.6 - 136km W of Neiafu, Tonga\n",
      "\t\t 700061e9 : M 6.5 - 2km E of Bulatukan, Philippines\n",
      "\t\t 6000645n : M 6.6 - 8km NE of Columbio, Philippines\n",
      "\t\t 70005nie : M 6.7 - 69km WSW of Constitucion, Chile\n",
      "\t\t 70005lfd : M 6.5 - 11km S of Kairatu, Indonesia\n",
      "\t\t 700058yy : M 6.6 - 131km S of Bristol Island, South Sandwich Islands\n",
      "\t\t 60004zhq : M 6.9 - 106km WSW of Tugu Hilir, Indonesia\n",
      "\t\t 60004yps : M 6.8 - 95km SW of San Antonio, Chile\n",
      "\t\t 70004jyv : M 7.2 - 93km NNE of Laiwui, Indonesia\n",
      "\t\t 70004jxe : M 6.6 - 200km W of Broome, Australia\n",
      "\t\t 70004dz3 : M 6.9 - 134km WSW of Kota Ternate, Indonesia\n",
      "\t\t 38457511 : M 7.1 - 2019 Ridgecrest Earthquake Sequence\n",
      "\t\t 6000417i : M 7.3 - 116km NE of L'Esperance Rock, New Zealand\n",
      "\t\t 70003kyy : M 7.6 - 46km SSE of Namatanai, Papua New Guinea\n",
      "\t\t 700034xq : M 6.8 - 98km SSW of Luwuk, Indonesia\n",
      "\t\t 600032fg : M 6.5 - 83km ENE of Bristol Island, South Sandwich Islands\n",
      "\t\t 2000j7dn : M 6.7 - Prince Edward Islands region\n",
      "\t\t 2000j468 : M 6.6 - 94km NW of Sola, Vanuatu\n",
      "\t\t 2000j0uj : M 6.6 - 151km WNW of Tobelo, Indonesia\n",
      "\t\t 2000ivfw : M 7.3 - 83km W of Nikol'skoye, Russia\n",
      "\t\t 1000i2k0 : M 6.6 - 199km ESE of Tadine, New Caledonia\n",
      "\t\t 1000i2gt : M 7.5 - 165km ESE of Tadine, New Caledonia\n",
      "\t\t 018fcnsk91 : M 7.1 - 14km NNW of Anchorage, Alaska\n",
      "\t\t 1000hpim : M 6.7 - 120km NW of Olonkinbyen, Svalbard and Jan Mayen\n",
      "\t\t 1000hhb1 : M 6.8 - 32km SW of Mouzaki, Greece\n",
      "\t\t 1000hfh3 : M 6.5 - 227km SW of Port Hardy, Canada\n",
      "\t\t 1000hfgv : M 6.8 - 202km SW of Port Hardy, Canada\n",
      "\t\t 1000hfgn : M 6.5 - 214km SW of Port Hardy, Canada\n",
      "\t\t 1000hclz : M 6.5 - 170km E of Tadine, New Caledonia\n",
      "\t[Truncated after max print limit of 30 exceeded]\n"
     ]
    }
   ],
   "source": [
    "search_params = {\n",
    "    'starttime':  \"1900-01-01\",\n",
    "    'endtime':  \"2020-01-01\",\n",
    "    'minmagnitude':  6.5,\n",
    "    'maxmagnitude': 10.0,\n",
    "    'mindepth': 0.0,\n",
    "    'maxdepth': 50.0,\n",
    "    'minlongitude': -180.0,\n",
    "    'maxlongitude': 180.0,\n",
    "    'minlatitude':  -90.0,\n",
    "    'maxlatitude': 90.0,\n",
    "    'limit': 10000,\n",
    "    'producttype': 'shakemap'\n",
    "}\n",
    "\n",
    "events = usgs_web.search_usgsevents(search_params)"
   ]
  },
  {
   "cell_type": "code",
   "execution_count": 3,
   "metadata": {},
   "outputs": [
    {
     "name": "stdout",
     "output_type": "stream",
     "text": [
      "generated : 1576187542000\n",
      "url : https://earthquake.usgs.gov/fdsnws/event/1/query?starttime=1900-01-01&endtime=2020-01-01&minmagnitude=6.5&maxmagnitude=10.0&mindepth=0.0&maxdepth=50.0&minlongitude=-180.0&maxlongitude=180.0&minlatitude=-90.0&maxlatitude=90.0&limit=10000&producttype=shakemap&format=geojson&jsonerror=true\n",
      "title : USGS Earthquakes\n",
      "status : 200\n",
      "api : 1.8.1\n",
      "limit : 10000\n",
      "offset : 1\n",
      "count : 1216\n"
     ]
    }
   ],
   "source": [
    "for k, v in events['metadata'].items():\n",
    "    print(k,\":\", v)"
   ]
  },
  {
   "cell_type": "code",
   "execution_count": 4,
   "metadata": {},
   "outputs": [
    {
     "name": "stdout",
     "output_type": "stream",
     "text": [
      "1216\n"
     ]
    },
    {
     "data": {
      "text/plain": [
       "Index(['mag', 'place', 'time', 'updated', 'tz', 'url', 'detail', 'felt', 'cdi',\n",
       "       'mmi', 'alert', 'status', 'tsunami', 'sig', 'net', 'code', 'ids',\n",
       "       'sources', 'types', 'nst', 'dmin', 'rms', 'gap', 'magType', 'type',\n",
       "       'title', 'type', 'coordinates'],\n",
       "      dtype='object')"
      ]
     },
     "execution_count": 4,
     "metadata": {},
     "output_type": "execute_result"
    }
   ],
   "source": [
    "# Format into a dataframe\n",
    "import pandas as pd\n",
    "\n",
    "# Extract info per event\n",
    "event_info = pd.DataFrame([f['properties'] for f in events['features']])\n",
    "\n",
    "# Extract centroid locations\n",
    "event_geom = pd.DataFrame([f['geometry'] for f in events['features']])\n",
    "\n",
    "# Combine\n",
    "event_table = pd.concat([event_info, event_geom], axis=1)\n",
    "\n",
    "# Set ID\n",
    "event_table['id'] = [ev['id'] for ev in events['features']]\n",
    "event_table = event_table.set_index('id', verify_integrity=True)\n",
    "\n",
    "print(len(event_table))\n",
    "event_table.columns\n"
   ]
  },
  {
   "cell_type": "code",
   "execution_count": 6,
   "metadata": {},
   "outputs": [
    {
     "name": "stderr",
     "output_type": "stream",
     "text": [
      "100%|██████████| 1216/1216 [18:52<00:00,  1.07it/s]\n"
     ]
    },
    {
     "data": {
      "text/plain": [
       "1216"
      ]
     },
     "execution_count": 6,
     "metadata": {},
     "output_type": "execute_result"
    }
   ],
   "source": [
    "# Get the shakemap details per event\n",
    "from tqdm import tqdm\n",
    "import requests\n",
    "import json\n",
    "\n",
    "details = []\n",
    "\n",
    "for url in tqdm(event_table['detail']):\n",
    "    resp2 = requests.get(url)\n",
    "    detail = json.loads(resp2.content)\n",
    "    details.append(detail['properties']['products']['shakemap'])\n",
    "\n",
    "len(details)"
   ]
  },
  {
   "cell_type": "code",
   "execution_count": 17,
   "metadata": {
    "scrolled": false
   },
   "outputs": [
    {
     "data": {
      "text/html": [
       "<div>\n",
       "<style scoped>\n",
       "    .dataframe tbody tr th:only-of-type {\n",
       "        vertical-align: middle;\n",
       "    }\n",
       "\n",
       "    .dataframe tbody tr th {\n",
       "        vertical-align: top;\n",
       "    }\n",
       "\n",
       "    .dataframe thead th {\n",
       "        text-align: right;\n",
       "    }\n",
       "</style>\n",
       "<table border=\"1\" class=\"dataframe\">\n",
       "  <thead>\n",
       "    <tr style=\"text-align: right;\">\n",
       "      <th></th>\n",
       "      <th>0</th>\n",
       "    </tr>\n",
       "  </thead>\n",
       "  <tbody>\n",
       "    <tr>\n",
       "      <th>1</th>\n",
       "      <td>1116</td>\n",
       "    </tr>\n",
       "    <tr>\n",
       "      <th>2</th>\n",
       "      <td>94</td>\n",
       "    </tr>\n",
       "    <tr>\n",
       "      <th>3</th>\n",
       "      <td>6</td>\n",
       "    </tr>\n",
       "  </tbody>\n",
       "</table>\n",
       "</div>"
      ],
      "text/plain": [
       "      0\n",
       "1  1116\n",
       "2    94\n",
       "3     6"
      ]
     },
     "execution_count": 17,
     "metadata": {},
     "output_type": "execute_result"
    }
   ],
   "source": [
    "count = pd.Series([len(x) for x in details], index=event_table.index)\n",
    "count.value_counts().to_frame()"
   ]
  },
  {
   "cell_type": "code",
   "execution_count": 8,
   "metadata": {},
   "outputs": [],
   "source": [
    "with open('shakemap_details.json', 'w') as fout:\n",
    "    json.dump(details, fout)"
   ]
  },
  {
   "cell_type": "code",
   "execution_count": 21,
   "metadata": {},
   "outputs": [
    {
     "data": {
      "text/html": [
       "<div>\n",
       "<style scoped>\n",
       "    .dataframe tbody tr th:only-of-type {\n",
       "        vertical-align: middle;\n",
       "    }\n",
       "\n",
       "    .dataframe tbody tr th {\n",
       "        vertical-align: top;\n",
       "    }\n",
       "\n",
       "    .dataframe thead th {\n",
       "        text-align: right;\n",
       "    }\n",
       "</style>\n",
       "<table border=\"1\" class=\"dataframe\">\n",
       "  <thead>\n",
       "    <tr style=\"text-align: right;\">\n",
       "      <th></th>\n",
       "      <th>mag</th>\n",
       "      <th>title</th>\n",
       "      <th>time</th>\n",
       "    </tr>\n",
       "    <tr>\n",
       "      <th>id</th>\n",
       "      <th></th>\n",
       "      <th></th>\n",
       "      <th></th>\n",
       "    </tr>\n",
       "  </thead>\n",
       "  <tbody>\n",
       "    <tr>\n",
       "      <th>ci38457511</th>\n",
       "      <td>7.1</td>\n",
       "      <td>M 7.1 - 2019 Ridgecrest Earthquake Sequence</td>\n",
       "      <td>1562383193040</td>\n",
       "    </tr>\n",
       "    <tr>\n",
       "      <th>nc72182046</th>\n",
       "      <td>6.8</td>\n",
       "      <td>M 6.8 - 78km WNW of Ferndale, California</td>\n",
       "      <td>1394428693430</td>\n",
       "    </tr>\n",
       "    <tr>\n",
       "      <th>usb000jgju</th>\n",
       "      <td>6.5</td>\n",
       "      <td>M 6.5 - 81km SSW of Atka, Alaska</td>\n",
       "      <td>1378261950600</td>\n",
       "    </tr>\n",
       "    <tr>\n",
       "      <th>usb000jdt7</th>\n",
       "      <td>7.0</td>\n",
       "      <td>M 7.0 - 101km SW of Atka, Alaska</td>\n",
       "      <td>1377879902300</td>\n",
       "    </tr>\n",
       "    <tr>\n",
       "      <th>usc000hrnr</th>\n",
       "      <td>6.5</td>\n",
       "      <td>M 6.5 - 46km W of Masachapa, Nicaragua</td>\n",
       "      <td>1371317667810</td>\n",
       "    </tr>\n",
       "    <tr>\n",
       "      <th>official20120411083836720_20</th>\n",
       "      <td>8.6</td>\n",
       "      <td>M 8.6 - off the west coast of northern Sumatra</td>\n",
       "      <td>1334133516720</td>\n",
       "    </tr>\n",
       "  </tbody>\n",
       "</table>\n",
       "</div>"
      ],
      "text/plain": [
       "                              mag  \\\n",
       "id                                  \n",
       "ci38457511                    7.1   \n",
       "nc72182046                    6.8   \n",
       "usb000jgju                    6.5   \n",
       "usb000jdt7                    7.0   \n",
       "usc000hrnr                    6.5   \n",
       "official20120411083836720_20  8.6   \n",
       "\n",
       "                                                                       title  \\\n",
       "id                                                                             \n",
       "ci38457511                       M 7.1 - 2019 Ridgecrest Earthquake Sequence   \n",
       "nc72182046                          M 6.8 - 78km WNW of Ferndale, California   \n",
       "usb000jgju                                  M 6.5 - 81km SSW of Atka, Alaska   \n",
       "usb000jdt7                                  M 7.0 - 101km SW of Atka, Alaska   \n",
       "usc000hrnr                            M 6.5 - 46km W of Masachapa, Nicaragua   \n",
       "official20120411083836720_20  M 8.6 - off the west coast of northern Sumatra   \n",
       "\n",
       "                                       time  \n",
       "id                                           \n",
       "ci38457511                    1562383193040  \n",
       "nc72182046                    1394428693430  \n",
       "usb000jgju                    1378261950600  \n",
       "usb000jdt7                    1377879902300  \n",
       "usc000hrnr                    1371317667810  \n",
       "official20120411083836720_20  1334133516720  "
      ]
     },
     "execution_count": 21,
     "metadata": {},
     "output_type": "execute_result"
    }
   ],
   "source": [
    "event_table['count'] = count\n",
    "event_table.loc[count==3, ['mag', 'title', 'time']]"
   ]
  }
 ],
 "metadata": {
  "kernelspec": {
   "display_name": "shakemap-lookup",
   "language": "python",
   "name": "shakemap-lookup"
  },
  "language_info": {
   "codemirror_mode": {
    "name": "ipython",
    "version": 3
   },
   "file_extension": ".py",
   "mimetype": "text/x-python",
   "name": "python",
   "nbconvert_exporter": "python",
   "pygments_lexer": "ipython3",
   "version": "3.7.3"
  }
 },
 "nbformat": 4,
 "nbformat_minor": 2
}
