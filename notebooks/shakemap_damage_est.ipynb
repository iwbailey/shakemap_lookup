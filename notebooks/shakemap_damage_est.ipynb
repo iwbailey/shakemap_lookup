{
 "cells": [
  {
   "cell_type": "markdown",
   "metadata": {},
   "source": [
    "# Estimate damage at a set of locations based on shakemap"
   ]
  },
  {
   "cell_type": "code",
   "execution_count": null,
   "metadata": {},
   "outputs": [],
   "source": [
    "def checkplot_interpolatedamage(frag, locns):\n",
    "    \"\"\"Read in fragility function, compare to the interpolated results we've output\n",
    "    to file\n",
    "\n",
    "    Plot the fragility curves as read in\n",
    "    IN: Pandas data frame\n",
    "          column 1 is named 'MMI'\n",
    "          columns 2+ are named the damage states\n",
    "    OUT: pyplot figure handle\n",
    "    \"\"\"\n",
    "\n",
    "    fig, ax = plt.subplots(1, 1, facecolor='white')\n",
    "\n",
    "    # Plot underlying fragility curve\n",
    "    for c in frag.damagestates():\n",
    "        ax.plot(frag.intensities, frag.exceedprob[c].values, label=c)\n",
    "\n",
    "    # Plot result of the location lookup\n",
    "    fnmIntens = frag.intensitymeasure + '_med'\n",
    "    for c in frag.damagestates():\n",
    "        # Fieldname for the probabilities at these locations\n",
    "        fnmDamage = 'prob_' + c\n",
    "        ax.plot(locns.df[fnmIntens].values, locns.df[fnmDamage].values, '+',\n",
    "                label='locations')\n",
    "\n",
    "    ax.set_xlabel(frag.intensitymeasure)\n",
    "    ax.set_ylabel('ProbExceedance')\n",
    "    ax.grid('on')\n",
    "    ax.legend(loc=2, frameon=False, framealpha=0.5)\n",
    "\n",
    "    plt.title('Check fragility calculation')\n",
    "\n",
    "    # Show the plot\n",
    "    print('Pausing while plot is shown...')\n",
    "    pylab.show(block=True)\n",
    "\n",
    "    return\n"
   ]
  },
  {
   "cell_type": "code",
   "execution_count": null,
   "metadata": {},
   "outputs": [],
   "source": []
  }
 ],
 "metadata": {
  "kernelspec": {
   "display_name": "shakemap",
   "language": "python",
   "name": "shakemap"
  },
  "language_info": {
   "codemirror_mode": {
    "name": "ipython",
    "version": 3
   },
   "file_extension": ".py",
   "mimetype": "text/x-python",
   "name": "python",
   "nbconvert_exporter": "python",
   "pygments_lexer": "ipython3",
   "version": "3.7.3"
  }
 },
 "nbformat": 4,
 "nbformat_minor": 2
}
